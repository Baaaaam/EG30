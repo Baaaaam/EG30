{
 "cells": [
  {
   "cell_type": "code",
   "execution_count": 1,
   "metadata": {},
   "outputs": [
    {
     "name": "stderr",
     "output_type": "stream",
     "text": [
      "/opt/local/Library/Frameworks/Python.framework/Versions/3.5/lib/python3.5/importlib/_bootstrap.py:222: QAWarning: pyne.data is not yet QA compliant.\n",
      "  return f(*args, **kwds)\n",
      "/opt/local/Library/Frameworks/Python.framework/Versions/3.5/lib/python3.5/importlib/_bootstrap.py:222: QAWarning: pyne.material is not yet QA compliant.\n",
      "  return f(*args, **kwds)\n",
      "/opt/local/Library/Frameworks/Python.framework/Versions/3.5/lib/python3.5/importlib/_bootstrap.py:222: QAWarning: pyne.enrichment is not yet QA compliant.\n",
      "  return f(*args, **kwds)\n"
     ]
    }
   ],
   "source": [
    "from cymetric import convenient_interface as com\n",
    "import pandas as pd\n",
    "import matplotlib.pyplot as plt\n",
    "%matplotlib inline"
   ]
  },
  {
   "cell_type": "code",
   "execution_count": 2,
   "metadata": {
    "collapsed": true
   },
   "outputs": [],
   "source": [
    "import cymetric as cym\n",
    "db = cym.dbopen('cyclus.sqlite')\n",
    "ev = cym.Evaluator(db=db, write=False)"
   ]
  },
  {
   "cell_type": "code",
   "execution_count": 4,
   "metadata": {
    "collapsed": true
   },
   "outputs": [],
   "source": [
    "FBR_dr_trans = com.get_transaction_timeseries(ev, receivers=['FBR_driver'])\n",
    "FBR_dr_trans_LEU = com.get_transaction_timeseries(ev, receivers=['FBR_driver'], commodities=['FBR_LEU_N'] )\n",
    "FBR_dr_trans_N_1 = com.get_transaction_timeseries(ev, receivers=['FBR_driver'], commodities=['FBR_MOX_N_1'] )\n",
    "FBR_dr_trans_N_2 = com.get_transaction_timeseries(ev, receivers=['FBR_driver'], commodities=['FBR_MOX_N_2'] )\n",
    "FBR_dr_trans_N_3 = com.get_transaction_timeseries(ev, receivers=['FBR_driver'], commodities=['FBR_MOX_N_3'] )\n",
    "FBR_dr_trans_N_4 = com.get_transaction_timeseries(ev, receivers=['FBR_driver'], commodities=['FBR_MOX_N_4'] )\n",
    "FBR_dr_trans_N = com.get_transaction_timeseries(ev, receivers=['FBR_driver'], commodities=['FBR_MOX_N'] )"
   ]
  },
  {
   "cell_type": "code",
   "execution_count": 5,
   "metadata": {},
   "outputs": [
    {
     "data": {
      "image/png": "[encoded data removed]",
      "text/plain": [
       "<matplotlib.figure.Figure at 0x7f3103f9a748>"
      ]
     },
     "metadata": {},
     "output_type": "display_data"
    }
   ],
   "source": [
    "FBR_dr_trans_dat = pd.DataFrame({'Time': FBR_dr_trans.Time/12., 'Total Mass': FBR_dr_trans.Mass})\n",
    "FBR_dr_trans_LEU_dat = pd.DataFrame({'Time': FBR_dr_trans_LEU.Time/12., 'LEU Mass': FBR_dr_trans_LEU.Mass})\n",
    "FBR_dr_trans_N1_dat = pd.DataFrame({'Time': FBR_dr_trans_N_1.Time/12., 'N1 Mass': FBR_dr_trans_N_1.Mass})\n",
    "FBR_dr_trans_N2_dat = pd.DataFrame({'Time': FBR_dr_trans_N_2.Time/12., 'N2 Mass': FBR_dr_trans_N_2.Mass})\n",
    "FBR_dr_trans_N3_dat = pd.DataFrame({'Time': FBR_dr_trans_N_3.Time/12., 'N3 Mass': FBR_dr_trans_N_3.Mass})\n",
    "FBR_dr_trans_N4_dat = pd.DataFrame({'Time': FBR_dr_trans_N_4.Time/12., 'N4 Mass': FBR_dr_trans_N_4.Mass})\n",
    "FBR_dr_trans_N_dat = pd.DataFrame({'Time': FBR_dr_trans_N.Time/12., 'N Mass': FBR_dr_trans_N.Mass})\n",
    "\n",
    "\n",
    "e1x = FBR_dr_trans_dat.plot(x='Time', y='Total Mass', figsize=(10, 6), linestyle=' ', marker='o')\n",
    "FBR_dr_trans_LEU_dat.plot(x='Time', y='LEU Mass', ax=e1x, marker='o', linestyle=' ')\n",
    "FBR_dr_trans_N_dat.plot(x='Time', y='N Mass', ax=e1x,  marker='o', linestyle=' ')\n",
    "FBR_dr_trans_N4_dat.plot(x='Time', y='N4 Mass', ax=e1x,  marker='o', linestyle=' ')\n",
    "FBR_dr_trans_N3_dat.plot(x='Time', y='N3 Mass', ax=e1x,  marker='o', linestyle=' ')\n",
    "FBR_dr_trans_N2_dat.plot(x='Time', y='N2 Mass', ax=e1x,  marker='o', linestyle=' ')\n",
    "FBR_dr_trans_N1_dat.plot(x='Time', y='N1 Mass', ax=e1x,  marker='o', linestyle=' ')\n",
    "\n",
    "\n",
    "\n",
    "\n",
    "\n",
    "\n",
    "#FBR_dr_trans_LEU_dat.plot(x='Time', y='LEU Mass', ax=e1x)\n",
    "\n",
    "\n",
    "\n",
    "\n",
    "plt.ylim([0,1000000])\n",
    "plt.xlabel('Time [Years]')\n",
    "plt.ylabel('Transaction [Kg]')\n",
    "plt.savefig('trans.png', dpi=326)\n"
   ]
  },
  {
   "cell_type": "code",
   "execution_count": 6,
   "metadata": {},
   "outputs": [
    {
     "name": "stderr",
     "output_type": "stream",
     "text": [
      "/home/mouginot/.local/lib/python3.5/site-packages/cymetric/convenient_interface.py:423: UserWarning: no nuclide provided\n",
      "  warnings.warn(wng_msg, UserWarning)\n"
     ]
    },
    {
     "ename": "MemoryError",
     "evalue": "std::bad_alloc",
     "output_type": "error",
     "traceback": [
      "\u001b[0;31m---------------------------------------------------------------------------\u001b[0m",
      "\u001b[0;31mMemoryError\u001b[0m                               Traceback (most recent call last)",
      "\u001b[0;32m<ipython-input-6-e1f9bde36214>\u001b[0m in \u001b[0;36m<module>\u001b[0;34m()\u001b[0m\n\u001b[0;32m----> 1\u001b[0;31m \u001b[0msep_inv_N_0\u001b[0m \u001b[0;34m=\u001b[0m \u001b[0mcom\u001b[0m\u001b[0;34m.\u001b[0m\u001b[0mget_inventory_timeseries\u001b[0m\u001b[0;34m(\u001b[0m\u001b[0mev\u001b[0m\u001b[0;34m,\u001b[0m \u001b[0mfacilities\u001b[0m\u001b[0;34m=\u001b[0m\u001b[0;34m[\u001b[0m\u001b[0;34m'SEP_0'\u001b[0m\u001b[0;34m]\u001b[0m\u001b[0;34m)\u001b[0m\u001b[0;34m\u001b[0m\u001b[0m\n\u001b[0m\u001b[1;32m      2\u001b[0m \u001b[0msep_inv_N_0\u001b[0m\u001b[0;34m\u001b[0m\u001b[0m\n",
      "\u001b[0;32m/home/mouginot/.local/lib/python3.5/site-packages/cymetric/convenient_interface.py\u001b[0m in \u001b[0;36mget_inventory_timeseries\u001b[0;34m(evaler, facilities, nucs)\u001b[0m\n\u001b[1;32m    423\u001b[0m         \u001b[0mwarnings\u001b[0m\u001b[0;34m.\u001b[0m\u001b[0mwarn\u001b[0m\u001b[0;34m(\u001b[0m\u001b[0mwng_msg\u001b[0m\u001b[0;34m,\u001b[0m \u001b[0mUserWarning\u001b[0m\u001b[0;34m)\u001b[0m\u001b[0;34m\u001b[0m\u001b[0m\n\u001b[1;32m    424\u001b[0m \u001b[0;34m\u001b[0m\u001b[0m\n\u001b[0;32m--> 425\u001b[0;31m     \u001b[0mdf\u001b[0m \u001b[0;34m=\u001b[0m \u001b[0mget_inventory_df\u001b[0m\u001b[0;34m(\u001b[0m\u001b[0mevaler\u001b[0m\u001b[0;34m,\u001b[0m \u001b[0mfacilities\u001b[0m\u001b[0;34m,\u001b[0m \u001b[0mnucs\u001b[0m\u001b[0;34m)\u001b[0m\u001b[0;34m\u001b[0m\u001b[0m\n\u001b[0m\u001b[1;32m    426\u001b[0m \u001b[0;34m\u001b[0m\u001b[0m\n\u001b[1;32m    427\u001b[0m     \u001b[0mgroup_end\u001b[0m \u001b[0;34m=\u001b[0m \u001b[0;34m[\u001b[0m\u001b[0;34m'Time'\u001b[0m\u001b[0;34m]\u001b[0m\u001b[0;34m\u001b[0m\u001b[0m\n",
      "\u001b[0;32m/home/mouginot/.local/lib/python3.5/site-packages/cymetric/convenient_interface.py\u001b[0m in \u001b[0;36mget_inventory_df\u001b[0;34m(evaler, facilities, nucs)\u001b[0m\n\u001b[1;32m    382\u001b[0m \u001b[0;34m\u001b[0m\u001b[0m\n\u001b[1;32m    383\u001b[0m     \u001b[0;31m# Get inventory table\u001b[0m\u001b[0;34m\u001b[0m\u001b[0;34m\u001b[0m\u001b[0m\n\u001b[0;32m--> 384\u001b[0;31m     \u001b[0mdf\u001b[0m \u001b[0;34m=\u001b[0m \u001b[0mevaler\u001b[0m\u001b[0;34m.\u001b[0m\u001b[0meval\u001b[0m\u001b[0;34m(\u001b[0m\u001b[0;34m'ExplicitInventory'\u001b[0m\u001b[0;34m)\u001b[0m\u001b[0;34m\u001b[0m\u001b[0m\n\u001b[0m\u001b[1;32m    385\u001b[0m     \u001b[0magents\u001b[0m \u001b[0;34m=\u001b[0m \u001b[0mevaler\u001b[0m\u001b[0;34m.\u001b[0m\u001b[0meval\u001b[0m\u001b[0;34m(\u001b[0m\u001b[0;34m'AgentEntry'\u001b[0m\u001b[0;34m)\u001b[0m\u001b[0;34m\u001b[0m\u001b[0m\n\u001b[1;32m    386\u001b[0m \u001b[0;34m\u001b[0m\u001b[0m\n",
      "\u001b[0;32m/home/mouginot/.local/lib/python3.5/site-packages/cymetric/evaluator.py\u001b[0m in \u001b[0;36meval\u001b[0;34m(self, metric, conds)\u001b[0m\n\u001b[1;32m     57\u001b[0m             \u001b[0ms\u001b[0m \u001b[0;34m=\u001b[0m \u001b[0;32mNone\u001b[0m \u001b[0;32mif\u001b[0m \u001b[0md\u001b[0m \u001b[0;32mis\u001b[0m \u001b[0;32mNone\u001b[0m \u001b[0;32melse\u001b[0m \u001b[0mraw_to_series\u001b[0m\u001b[0;34m(\u001b[0m\u001b[0md\u001b[0m\u001b[0;34m,\u001b[0m \u001b[0mdep\u001b[0m\u001b[0;34m[\u001b[0m\u001b[0;36m1\u001b[0m\u001b[0;34m]\u001b[0m\u001b[0;34m,\u001b[0m \u001b[0mdep\u001b[0m\u001b[0;34m[\u001b[0m\u001b[0;36m2\u001b[0m\u001b[0;34m]\u001b[0m\u001b[0;34m)\u001b[0m\u001b[0;34m\u001b[0m\u001b[0m\n\u001b[1;32m     58\u001b[0m             \u001b[0mseries\u001b[0m\u001b[0;34m.\u001b[0m\u001b[0mappend\u001b[0m\u001b[0;34m(\u001b[0m\u001b[0ms\u001b[0m\u001b[0;34m)\u001b[0m\u001b[0;34m\u001b[0m\u001b[0m\n\u001b[0;32m---> 59\u001b[0;31m         \u001b[0mraw\u001b[0m \u001b[0;34m=\u001b[0m \u001b[0mm\u001b[0m\u001b[0;34m(\u001b[0m\u001b[0mseries\u001b[0m\u001b[0;34m=\u001b[0m\u001b[0mseries\u001b[0m\u001b[0;34m,\u001b[0m \u001b[0mconds\u001b[0m\u001b[0;34m=\u001b[0m\u001b[0mconds\u001b[0m\u001b[0;34m,\u001b[0m \u001b[0mknown_tables\u001b[0m\u001b[0;34m=\u001b[0m\u001b[0mself\u001b[0m\u001b[0;34m.\u001b[0m\u001b[0mknown_tables\u001b[0m\u001b[0;34m)\u001b[0m\u001b[0;34m\u001b[0m\u001b[0m\n\u001b[0m\u001b[1;32m     60\u001b[0m         \u001b[0;32mif\u001b[0m \u001b[0mraw\u001b[0m \u001b[0;32mis\u001b[0m \u001b[0;32mNone\u001b[0m\u001b[0;34m:\u001b[0m\u001b[0;34m\u001b[0m\u001b[0m\n\u001b[1;32m     61\u001b[0m             \u001b[0;32mreturn\u001b[0m \u001b[0mraw\u001b[0m\u001b[0;34m\u001b[0m\u001b[0m\n",
      "\u001b[0;32m/home/mouginot/.local/lib/python3.5/site-packages/cymetric/root_metrics.py\u001b[0m in \u001b[0;36m__call__\u001b[0;34m(self, conds, *args, **kwargs)\u001b[0m\n\u001b[1;32m     32\u001b[0m             \u001b[0;32mif\u001b[0m \u001b[0mself\u001b[0m\u001b[0;34m.\u001b[0m\u001b[0mname\u001b[0m \u001b[0;32mnot\u001b[0m \u001b[0;32min\u001b[0m \u001b[0mself\u001b[0m\u001b[0;34m.\u001b[0m\u001b[0mdb\u001b[0m\u001b[0;34m.\u001b[0m\u001b[0mtables\u001b[0m\u001b[0;34m:\u001b[0m\u001b[0;34m\u001b[0m\u001b[0m\n\u001b[1;32m     33\u001b[0m                 \u001b[0;32mreturn\u001b[0m \u001b[0;32mNone\u001b[0m\u001b[0;34m\u001b[0m\u001b[0m\n\u001b[0;32m---> 34\u001b[0;31m             \u001b[0;32mreturn\u001b[0m \u001b[0mself\u001b[0m\u001b[0;34m.\u001b[0m\u001b[0mdb\u001b[0m\u001b[0;34m.\u001b[0m\u001b[0mquery\u001b[0m\u001b[0;34m(\u001b[0m\u001b[0mself\u001b[0m\u001b[0;34m.\u001b[0m\u001b[0mname\u001b[0m\u001b[0;34m,\u001b[0m \u001b[0mconds\u001b[0m\u001b[0;34m=\u001b[0m\u001b[0mconds\u001b[0m\u001b[0;34m)\u001b[0m\u001b[0;34m\u001b[0m\u001b[0m\n\u001b[0m\u001b[1;32m     35\u001b[0m \u001b[0;34m\u001b[0m\u001b[0m\n\u001b[1;32m     36\u001b[0m     \u001b[0mCls\u001b[0m\u001b[0;34m.\u001b[0m\u001b[0m__name__\u001b[0m \u001b[0;34m=\u001b[0m \u001b[0mstr\u001b[0m\u001b[0;34m(\u001b[0m\u001b[0mname\u001b[0m\u001b[0;34m)\u001b[0m\u001b[0;34m\u001b[0m\u001b[0m\n",
      "\u001b[0;32mcyclus/lib.pyx\u001b[0m in \u001b[0;36mcyclus.lib._FullBackend.query (/home/mouginot/work/app/cyclus/cyclus/build/cyclus/py_lib_.cxx:8448)\u001b[0;34m()\u001b[0m\n",
      "\u001b[0;31mMemoryError\u001b[0m: std::bad_alloc"
     ]
    }
   ],
   "source": [
    "sep_inv_N_0 = com.get_inventory_timeseries(ev, facilities=['SEP_0'])\n",
    "sep_inv_N_0"
   ]
  },
  {
   "cell_type": "code",
   "execution_count": null,
   "metadata": {
    "collapsed": true
   },
   "outputs": [],
   "source": [
    "sep_inv_N_1 = com.get_inventory_timeseries(ev, facilities=['SEP_1'])\n",
    "sep_inv_N_1"
   ]
  },
  {
   "cell_type": "code",
   "execution_count": null,
   "metadata": {
    "collapsed": true
   },
   "outputs": [],
   "source": [
    "sep_inv_N_2 = com.get_inventory_timeseries(ev, facilities=['SEP_2'])\n",
    "sep_inv_N_2"
   ]
  },
  {
   "cell_type": "code",
   "execution_count": null,
   "metadata": {
    "collapsed": true
   },
   "outputs": [],
   "source": [
    "sep_inv_N_3 = com.get_inventory_timeseries(ev, facilities=['SEP_3'])\n",
    "sep_inv_N_3"
   ]
  },
  {
   "cell_type": "code",
   "execution_count": null,
   "metadata": {
    "collapsed": true
   },
   "outputs": [],
   "source": [
    "sep_inv_N_4 = com.get_inventory_timeseries(ev, facilities=['SEP_4'])\n",
    "sep_inv_N_4"
   ]
  },
  {
   "cell_type": "code",
   "execution_count": null,
   "metadata": {
    "collapsed": true
   },
   "outputs": [],
   "source": [
    "sep_inv_N = com.get_inventory_timeseries(ev, facilities=['SEP'])\n",
    "sep_inv_N"
   ]
  },
  {
   "cell_type": "code",
   "execution_count": null,
   "metadata": {
    "collapsed": true
   },
   "outputs": [],
   "source": [
    "blk_inv = com.get_inventory_timeseries(ev, facilities=['Storage_blk_tru'])\n",
    "blk_inv"
   ]
  },
  {
   "cell_type": "code",
   "execution_count": null,
   "metadata": {
    "collapsed": true
   },
   "outputs": [],
   "source": [
    "sep_inv_N0_dat = pd.DataFrame({'Time': sep_inv_N_0.Time/12., 'N0 Mass': sep_inv_N_0.Quantity})\n",
    "sep_inv_N1_dat = pd.DataFrame({'Time': sep_inv_N_1.Time/12., 'N1 Mass': sep_inv_N_1.Quantity})\n",
    "sep_inv_N2_dat = pd.DataFrame({'Time': sep_inv_N_2.Time/12., 'N2 Mass': sep_inv_N_2.Quantity})\n",
    "sep_inv_N3_dat = pd.DataFrame({'Time': sep_inv_N_3.Time/12., 'N3 Mass': sep_inv_N_3.Quantity})\n",
    "sep_inv_N4_dat = pd.DataFrame({'Time': sep_inv_N_4.Time/12., 'N4 Mass': sep_inv_N_4.Quantity})\n",
    "sep_inv_N_dat =  pd.DataFrame({'Time': sep_inv_N.Time/12., 'N Mass': sep_inv_N.Quantity})\n",
    "blk_inv_dat =  pd.DataFrame({'Time': sep_inv_N.Time/12., 'Blk Mass': sep_inv_N.Quantity})\n",
    "\n",
    "\n",
    "\n",
    "e1x = sep_inv_N0_dat.plot(x='Time', y='N0 Mass', figsize=(10, 6))\n",
    "sep_inv_N1_dat.plot(x='Time', y='N1 Mass', ax=e1x)\n",
    "sep_inv_N2_dat.plot(x='Time', y='N2 Mass', ax=e1x)\n",
    "sep_inv_N3_dat.plot(x='Time', y='N3 Mass', ax=e1x)\n",
    "sep_inv_N4_dat.plot(x='Time', y='N4 Mass', ax=e1x)\n",
    "sep_inv_N_dat.plot(x='Time', y='N Mass', ax=e1x)\n",
    "blk_inv_dat.plot(x='Time', y='Blk Mass', ax=e1x)\n",
    "\n",
    "\n",
    "\n",
    "\n",
    "\n",
    "plt.ylim([0,12000000])\n",
    "plt.xlabel('Time [Years]')\n",
    "plt.ylabel('Transaction [Kg]')\n",
    "plt.savefig('inv.png', dpi=326)"
   ]
  },
  {
   "cell_type": "code",
   "execution_count": 3,
   "metadata": {
    "collapsed": true
   },
   "outputs": [],
   "source": [
    "power = com.get_power_timeseries(ev, facilities=['PWR', 'FBR_driver'])"
   ]
  },
  {
   "cell_type": "code",
   "execution_count": 4,
   "metadata": {},
   "outputs": [
    {
     "data": {
      "image/png": "[encoded data removed]",
      "text/plain": [
       "<matplotlib.figure.Figure at 0x11b660e48>"
      ]
     },
     "metadata": {},
     "output_type": "display_data"
    }
   ],
   "source": [
    "power_dat = pd.DataFrame({'Time': power.Time/12., 'Power': power.Value})\n",
    "\n",
    "\n",
    "\n",
    "e1x = power_dat.plot(x='Time', y='Power', figsize=(10, 6))\n",
    "\n",
    "\n",
    "\n",
    "\n",
    "#plt.ylim([0,1000000])\n",
    "plt.xlabel('Time [Years]')\n",
    "plt.ylabel('Power [W]')\n",
    "plt.savefig('power.png', dpi=326)"
   ]
  },
  {
   "cell_type": "code",
   "execution_count": null,
   "metadata": {
    "collapsed": true
   },
   "outputs": [],
   "source": []
  },
  {
   "cell_type": "code",
   "execution_count": null,
   "metadata": {
    "collapsed": true
   },
   "outputs": [],
   "source": []
  },
  {
   "cell_type": "code",
   "execution_count": null,
   "metadata": {
    "collapsed": true
   },
   "outputs": [],
   "source": []
  },
  {
   "cell_type": "code",
   "execution_count": null,
   "metadata": {
    "collapsed": true
   },
   "outputs": [],
   "source": []
  }
 ],
 "metadata": {
  "kernelspec": {
   "display_name": "Python 3",
   "language": "python",
   "name": "python3"
  },
  "language_info": {
   "codemirror_mode": {
    "name": "ipython",
    "version": 3
   },
   "file_extension": ".py",
   "mimetype": "text/x-python",
   "name": "python",
   "nbconvert_exporter": "python",
   "pygments_lexer": "ipython3",
   "version": "3.5.3"
  }
 },
 "nbformat": 4,
 "nbformat_minor": 1
}
