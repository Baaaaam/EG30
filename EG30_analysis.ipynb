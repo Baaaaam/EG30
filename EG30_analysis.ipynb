{
 "cells": [
  {
   "cell_type": "code",
   "execution_count": 3,
   "metadata": {
    "collapsed": true
   },
   "outputs": [],
   "source": [
    "from cymetric import convenient_interface as com\n",
    "import pandas as pd\n",
    "import matplotlib.pyplot as plt\n",
    "%matplotlib inline"
   ]
  },
  {
   "cell_type": "code",
   "execution_count": 4,
   "metadata": {
    "collapsed": true
   },
   "outputs": [],
   "source": [
    "import cymetric as cym\n",
    "db = cym.dbopen('cyclus.sqlite')\n",
    "ev = cym.Evaluator(db=db, write=False)"
   ]
  },
  {
   "cell_type": "code",
   "execution_count": 6,
   "metadata": {
    "collapsed": true
   },
   "outputs": [],
   "source": [
    "FBR_dr_trans = com.get_transaction_timeseries(ev, rec_list=['FBR_driver'])\n",
    "FBR_dr_trans_LEU = com.get_transaction_timeseries(ev, rec_list=['FBR_driver'], commod_list=['FBR_LEU_N'] )\n",
    "FBR_dr_trans_N_1 = com.get_transaction_timeseries(ev, rec_list=['FBR_driver'], commod_list=['FBR_MOX_N_1'] )\n",
    "FBR_dr_trans_N_2 = com.get_transaction_timeseries(ev, rec_list=['FBR_driver'], commod_list=['FBR_MOX_N_2'] )\n",
    "FBR_dr_trans_N_3 = com.get_transaction_timeseries(ev, rec_list=['FBR_driver'], commod_list=['FBR_MOX_N_3'] )\n",
    "FBR_dr_trans_N_4 = com.get_transaction_timeseries(ev, rec_list=['FBR_driver'], commod_list=['FBR_MOX_N_4'] )\n",
    "FBR_dr_trans_N = com.get_transaction_timeseries(ev, rec_list=['FBR_driver'], commod_list=['FBR_MOX_N'] )"
   ]
  },
  {
   "cell_type": "code",
   "execution_count": null,
   "metadata": {},
   "outputs": [
    {
     "data": {
      "image/png": "[encoded data removed]",
      "text/plain": [
       "<matplotlib.figure.Figure at 0x7f379f633eb8>"
      ]
     },
     "metadata": {},
     "output_type": "display_data"
    }
   ],
   "source": [
    "FBR_dr_trans_dat = pd.DataFrame({'Time': FBR_dr_trans.Time/12., 'Total Mass': FBR_dr_trans.Mass})\n",
    "FBR_dr_trans_LEU_dat = pd.DataFrame({'Time': FBR_dr_trans_LEU.Time/12., 'LEU Mass': FBR_dr_trans_LEU.Mass})\n",
    "FBR_dr_trans_N1_dat = pd.DataFrame({'Time': FBR_dr_trans_N_1.Time/12., 'N1 Mass': FBR_dr_trans_N_1.Mass})\n",
    "FBR_dr_trans_N2_dat = pd.DataFrame({'Time': FBR_dr_trans_N_2.Time/12., 'N2 Mass': FBR_dr_trans_N_2.Mass})\n",
    "FBR_dr_trans_N3_dat = pd.DataFrame({'Time': FBR_dr_trans_N_3.Time/12., 'N3 Mass': FBR_dr_trans_N_3.Mass})\n",
    "FBR_dr_trans_N4_dat = pd.DataFrame({'Time': FBR_dr_trans_N_4.Time/12., 'N4 Mass': FBR_dr_trans_N_4.Mass})\n",
    "FBR_dr_trans_N_dat = pd.DataFrame({'Time': FBR_dr_trans_N.Time/12., 'N Mass': FBR_dr_trans_N.Mass})\n",
    "\n",
    "\n",
    "e1x = FBR_dr_trans_dat.plot(x='Time', y='Total Mass', figsize=(10, 6), linestyle=' ', marker='o')\n",
    "FBR_dr_trans_LEU_dat.plot(x='Time', y='LEU Mass', ax=e1x, marker='o', linestyle=' ')\n",
    "FBR_dr_trans_N_dat.plot(x='Time', y='N Mass', ax=e1x,  marker='o', linestyle=' ')\n",
    "FBR_dr_trans_N4_dat.plot(x='Time', y='N4 Mass', ax=e1x,  marker='o', linestyle=' ')\n",
    "FBR_dr_trans_N3_dat.plot(x='Time', y='N3 Mass', ax=e1x,  marker='o', linestyle=' ')\n",
    "FBR_dr_trans_N2_dat.plot(x='Time', y='N2 Mass', ax=e1x,  marker='o', linestyle=' ')\n",
    "FBR_dr_trans_N1_dat.plot(x='Time', y='N1 Mass', ax=e1x,  marker='o', linestyle=' ')\n",
    "\n",
    "\n",
    "\n",
    "\n",
    "\n",
    "\n",
    "#FBR_dr_trans_LEU_dat.plot(x='Time', y='LEU Mass', ax=e1x)\n",
    "\n",
    "\n",
    "\n",
    "\n",
    "plt.ylim([0,1000000])\n",
    "plt.xlabel('Time [Years]')\n",
    "plt.ylabel('Transaction [Kg]')\n",
    "plt.savefig('trans.png', dpi=326)\n"
   ]
  },
  {
   "cell_type": "code",
   "execution_count": null,
   "metadata": {
    "collapsed": true
   },
   "outputs": [],
   "source": [
    "sep_inv_N_0 = com.get_inventory_timeseries(ev, fac_list=['SEP_0'])\n"
   ]
  },
  {
   "cell_type": "code",
   "execution_count": null,
   "metadata": {
    "collapsed": true
   },
   "outputs": [],
   "source": [
    "sep_inv_N_1 = com.get_inventory_timeseries(ev, fac_list=['SEP_1'])\n"
   ]
  },
  {
   "cell_type": "code",
   "execution_count": null,
   "metadata": {
    "collapsed": true
   },
   "outputs": [],
   "source": [
    "sep_inv_N_2 = com.get_inventory_timeseries(ev, fac_list=['SEP_2'])\n"
   ]
  },
  {
   "cell_type": "code",
   "execution_count": null,
   "metadata": {
    "collapsed": true
   },
   "outputs": [],
   "source": [
    "sep_inv_N_3 = com.get_inventory_timeseries(ev, fac_list=['SEP_3'])\n"
   ]
  },
  {
   "cell_type": "code",
   "execution_count": null,
   "metadata": {
    "collapsed": true
   },
   "outputs": [],
   "source": [
    "sep_inv_N_4 = com.get_inventory_timeseries(ev, fac_list=['SEP_4'])\n"
   ]
  },
  {
   "cell_type": "code",
   "execution_count": null,
   "metadata": {
    "collapsed": true
   },
   "outputs": [],
   "source": [
    "sep_inv_N = com.get_inventory_timeseries(ev, fac_list=['SEP'])\n"
   ]
  },
  {
   "cell_type": "code",
   "execution_count": null,
   "metadata": {
    "collapsed": true
   },
   "outputs": [],
   "source": [
    "blk_inv = com.get_inventory_timeseries(ev, fac_list=['Storage_blk_tru'])"
   ]
  },
  {
   "cell_type": "code",
   "execution_count": null,
   "metadata": {
    "collapsed": true
   },
   "outputs": [],
   "source": [
    "sep_inv_N0_dat = pd.DataFrame({'Time': sep_inv_N_0.Time/12., 'N0 Mass': sep_inv_N_0.Quantity})\n",
    "sep_inv_N1_dat = pd.DataFrame({'Time': sep_inv_N_1.Time/12., 'N1 Mass': sep_inv_N_1.Quantity})\n",
    "sep_inv_N2_dat = pd.DataFrame({'Time': sep_inv_N_2.Time/12., 'N2 Mass': sep_inv_N_2.Quantity})\n",
    "sep_inv_N3_dat = pd.DataFrame({'Time': sep_inv_N_3.Time/12., 'N3 Mass': sep_inv_N_3.Quantity})\n",
    "sep_inv_N4_dat = pd.DataFrame({'Time': sep_inv_N_4.Time/12., 'N4 Mass': sep_inv_N_4.Quantity})\n",
    "sep_inv_N_dat =  pd.DataFrame({'Time': sep_inv_N.Time/12., 'N Mass': sep_inv_N.Quantity})\n",
    "blk_inv_dat =  pd.DataFrame({'Time': sep_inv_N.Time/12., 'Blk Mass': sep_inv_N.Quantity})\n",
    "\n",
    "\n",
    "\n",
    "e1x = sep_inv_N0_dat.plot(x='Time', y='N0 Mass', figsize=(10, 6))\n",
    "sep_inv_N1_dat.plot(x='Time', y='N1 Mass', ax=e1x)\n",
    "sep_inv_N2_dat.plot(x='Time', y='N2 Mass', ax=e1x)\n",
    "sep_inv_N3_dat.plot(x='Time', y='N3 Mass', ax=e1x)\n",
    "sep_inv_N4_dat.plot(x='Time', y='N4 Mass', ax=e1x)\n",
    "sep_inv_N_dat.plot(x='Time', y='N Mass', ax=e1x)\n",
    "blk_inv_dat.plot(x='Time', y='Blk Mass', ax=e1x)\n",
    "\n",
    "\n",
    "\n",
    "\n",
    "\n",
    "plt.ylim([0,12000000])\n",
    "plt.xlabel('Time [Years]')\n",
    "plt.ylabel('Transaction [Kg]')\n",
    "plt.savefig('inv.png', dpi=326)"
   ]
  },
  {
   "cell_type": "code",
   "execution_count": 5,
   "metadata": {},
   "outputs": [],
   "source": [
    "power = com.get_power_timeseries(ev, fac_list=['PWR', 'FBR_driver'])"
   ]
  },
  {
   "cell_type": "code",
   "execution_count": 6,
   "metadata": {},
   "outputs": [
    {
     "data": {
      "image/png": "[encoded data removed]",
      "text/plain": [
       "<matplotlib.figure.Figure at 0x7fb7be3e4a90>"
      ]
     },
     "metadata": {},
     "output_type": "display_data"
    }
   ],
   "source": [
    "power_dat = pd.DataFrame({'Time': power.Time/12., 'Power': power.Value})\n",
    "\n",
    "\n",
    "\n",
    "e1x = power_dat.plot(x='Time', y='Power', figsize=(10, 6))\n",
    "\n",
    "\n",
    "\n",
    "\n",
    "#plt.ylim([0,1000000])\n",
    "plt.xlabel('Time [Years]')\n",
    "plt.ylabel('Power [W]')\n",
    "plt.savefig('power.png', dpi=326)"
   ]
  },
  {
   "cell_type": "code",
   "execution_count": null,
   "metadata": {
    "collapsed": true
   },
   "outputs": [],
   "source": []
  },
  {
   "cell_type": "code",
   "execution_count": null,
   "metadata": {
    "collapsed": true
   },
   "outputs": [],
   "source": []
  },
  {
   "cell_type": "code",
   "execution_count": null,
   "metadata": {
    "collapsed": true
   },
   "outputs": [],
   "source": []
  }
 ],
 "metadata": {
  "kernelspec": {
   "display_name": "Python 3",
   "language": "python",
   "name": "python3"
  },
  "language_info": {
   "codemirror_mode": {
    "name": "ipython",
    "version": 3
   },
   "file_extension": ".py",
   "mimetype": "text/x-python",
   "name": "python",
   "nbconvert_exporter": "python",
   "pygments_lexer": "ipython3",
   "version": "3.5.2"
  }
 },
 "nbformat": 4,
 "nbformat_minor": 1
}
