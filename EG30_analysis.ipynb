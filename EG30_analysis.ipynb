{
 "cells": [
  {
   "cell_type": "code",
   "execution_count": 85,
   "metadata": {
    "collapsed": false
   },
   "outputs": [],
   "source": [
    "from cymetric import convenient_interface as com\n",
    "import pandas as pd\n",
    "import matplotlib.pyplot as plt\n",
    "%matplotlib inline"
   ]
  },
  {
   "cell_type": "code",
   "execution_count": 86,
   "metadata": {
    "collapsed": false
   },
   "outputs": [],
   "source": [
    "import cymetric as cym\n",
    "db = cym.dbopen('cyclus.sqlite')"
   ]
  },
  {
   "cell_type": "code",
   "execution_count": null,
   "metadata": {
    "collapsed": false
   },
   "outputs": [],
   "source": [
    "E1_pu_src = com.get_transaction_timeseries(db, 'E1_alt_src', 'FBR_driver_fabrication', ['pu238','pu239','pu240','pu241','pu242'])\n",
    "E1_pu_src.reset_index(inplace=True)\n",
    "E1_pu = com.get_transaction_timeseries(db, 'Storage_E1', 'FBR_driver_fabrication', ['pu238','pu239','pu240','pu241','pu242'])\n",
    "E1_pu.reset_index(inplace=True)\n",
    "\n"
   ]
  },
  {
   "cell_type": "code",
   "execution_count": null,
   "metadata": {
    "collapsed": false
   },
   "outputs": [],
   "source": [
    "E1_pu_src = pd.DataFrame({'Time': E1_pu_src.Time/12., 'E1 source': E1_pu_src.Quantity})\n",
    "E1_pu_src = E1_pu_src.groupby('Time').sum()\n",
    "E1_pu = pd.DataFrame({'Time': E1_pu.Time/12., 'E1 recycle': E1_pu.Quantity})\n",
    "E1_pu = E1_pu.groupby('Time').sum()\n",
    "\n",
    "e1x = E1_pu_src.plot(kind='area', figsize=(10, 6))\n",
    "E1_pu.plot(ax=e1x)\n",
    "plt.xlabel('Time [Years]')\n",
    "plt.ylabel('Transaction [Kg]')\n",
    "plt.savefig('test.png', dpi=326)"
   ]
  },
  {
   "cell_type": "markdown",
   "metadata": {
    "collapsed": false
   },
   "source": [
    "E1_pu_str = com.get_inventory_timeseries(db, 'Storage_E1', ['pu238','pu239','pu240','pu241','pu242'])\n",
    "E1_pu_str.reset_index(inplace=True)\n",
    "\n"
   ]
  },
  {
   "cell_type": "code",
   "execution_count": null,
   "metadata": {
    "collapsed": false
   },
   "outputs": [],
   "source": [
    "E1_pu_str = pd.DataFrame({'Time': E1_pu_str.Time/12., 'E1 source': E1_pu_str.Quantity})\n",
    "E1_pu_str = E1_pu_str.groupby('Time').sum()\n",
    "\n",
    "e1x = E1_pu_str.plot( figsize=(10, 6))\n",
    "plt.xlabel('Time [Years]')\n",
    "plt.ylabel('Transaction [Kg]')\n",
    "plt.savefig('test.png', dpi=326)"
   ]
  },
  {
   "cell_type": "code",
   "execution_count": null,
   "metadata": {
    "collapsed": false
   },
   "outputs": [],
   "source": [
    "J1_pu_src = com.get_transaction_timeseries(db, 'J1_TRU_alt_src', 'FBR_driver_fabrication', ['pu238','pu239','pu240','pu241','pu242'])\n",
    "J1_pu_src.reset_index(inplace=True)\n",
    "J1_pu = com.get_transaction_timeseries(db, 'Storage_J1_TRU', 'FBR_driver_fabrication', ['pu238','pu239','pu240','pu241','pu242'])\n",
    "J1_pu.reset_index(inplace=True)\n"
   ]
  },
  {
   "cell_type": "code",
   "execution_count": null,
   "metadata": {
    "collapsed": false,
    "scrolled": false
   },
   "outputs": [],
   "source": [
    "J1_pu_src = pd.DataFrame({'Time': J1_pu_src.Time/12., 'J1 source': J1_pu_src.Quantity})\n",
    "J1_pu_src = J1_pu_src.groupby('Time').sum()\n",
    "J1_pu = pd.DataFrame({'Time': J1_pu.Time/12., 'J1 recycle': J1_pu.Quantity})\n",
    "J1_pu = J1_pu.groupby('Time').sum()\n",
    "\n",
    "j1x = J1_pu_src.plot(kind='area', figsize=(10, 6))\n",
    "J1_pu.plot(ax=j1x)\n",
    "plt.xlabel('Time [Years]')\n",
    "plt.ylabel('Transaction [Kg]')\n",
    "plt.savefig('test.png', dpi=326)"
   ]
  },
  {
   "cell_type": "code",
   "execution_count": null,
   "metadata": {
    "collapsed": false
   },
   "outputs": [],
   "source": [
    "E2_pu_src = com.get_transaction_timeseries(db, 'E2_alt_src', 'PWR_fabrication', ['pu238','pu239','pu240','pu241','pu242'])\n",
    "E2_pu_src.reset_index(inplace=True)\n",
    "E2_pu = com.get_transaction_timeseries(db, 'Storage_E2', 'PWR_fabrication', ['pu238','pu239','pu240','pu241','pu242'])\n",
    "E2_pu.reset_index(inplace=True)\n",
    "\n",
    "\n"
   ]
  },
  {
   "cell_type": "code",
   "execution_count": null,
   "metadata": {
    "collapsed": false
   },
   "outputs": [],
   "source": [
    "E2_pu_src = pd.DataFrame({'Time': E2_pu_src.Time/12., 'E2 source': E2_pu_src.Quantity})\n",
    "E2_pu_src = E2_pu_src.groupby('Time').sum()\n",
    "E2_pu = pd.DataFrame({'Time': E2_pu.Time/12., 'E2 recycle': E2_pu.Quantity})\n",
    "E2_pu = E2_pu.groupby('Time').sum()\n",
    "\n",
    "\n",
    "e2x = E2_pu_src.plot(kind='area', figsize=(10, 6))\n",
    "E2_pu.plot(ax=e2x)\n",
    "plt.xlabel('Time [Years]')\n",
    "plt.ylabel('Transaction [Kg]')\n",
    "plt.savefig('test.png', dpi=326)"
   ]
  },
  {
   "cell_type": "code",
   "execution_count": null,
   "metadata": {
    "collapsed": true
   },
   "outputs": [],
   "source": []
  },
  {
   "cell_type": "code",
   "execution_count": null,
   "metadata": {
    "collapsed": true
   },
   "outputs": [],
   "source": []
  },
  {
   "cell_type": "code",
   "execution_count": null,
   "metadata": {
    "collapsed": true
   },
   "outputs": [],
   "source": []
  },
  {
   "cell_type": "code",
   "execution_count": null,
   "metadata": {
    "collapsed": true
   },
   "outputs": [],
   "source": []
  },
  {
   "cell_type": "code",
   "execution_count": null,
   "metadata": {
    "collapsed": true
   },
   "outputs": [],
   "source": []
  }
 ],
 "metadata": {
  "kernelspec": {
   "display_name": "Python 3",
   "language": "python",
   "name": "python3"
  },
  "language_info": {
   "codemirror_mode": {
    "name": "ipython",
    "version": 3
   },
   "file_extension": ".py",
   "mimetype": "text/x-python",
   "name": "python",
   "nbconvert_exporter": "python",
   "pygments_lexer": "ipython3",
   "version": "3.5.2"
  }
 },
 "nbformat": 4,
 "nbformat_minor": 1
}
